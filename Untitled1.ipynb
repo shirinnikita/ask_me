{
 "cells": [
  {
   "cell_type": "code",
   "execution_count": 205,
   "metadata": {
    "collapsed": false
   },
   "outputs": [],
   "source": [
    "from sklearn.decomposition import TruncatedSVD\n",
    "from sklearn.feature_extraction.text import TfidfVectorizer\n",
    "from sklearn.feature_extraction.text import TfidfTransformer\n",
    "from sklearn.preprocessing import Normalizer\n",
    "from sklearn import metrics\n",
    "from scipy import sparse\n",
    "from random import randint\n",
    "from collections import defaultdict\n",
    "\n",
    "import collections\n",
    "import math\n",
    "import random\n",
    "import numpy as np\n",
    "import tensorflow as tf\n",
    "import scipy as sc"
   ]
  },
  {
   "cell_type": "markdown",
   "metadata": {},
   "source": [
    "# LSA\n",
    "Для выполнения первого задания воспользуемся библиотечными функциями. Для парсинга википедии(у меня ее simple-вариант, около 80К статей после парсинга) я использовал фукнции библиотеки gensim, но на втором питоне (с третьим у меня не получилось с первого раза, и я не стал зацикливаться на этом), поэтому ячейка не инициализирована.\n",
    ", Можно было выкидывать из итогового текстового файла т.н. стоп-слова, которые не несут особого смысла и выкидывание их из контекстов только улучшает качество этих самых контестов, но я поступил по-другому и просто выкинул слишком редкие (встречаются менее чем в 10 статьях) и слишком частые (встречаются более чем в 1/5 статей) слова. Может показаться, что граница слишком частых достаточно слишком высока, но мне не пришли в голову какие-то слова, смысл которых нас интересуют, которые могут встречаться так часто (ну, я немого сожалел о выкидывании слова new, но жизнь продолжается)\n",
    "\n",
    "Выкидывая редкие же слова мы избавились от откровенного мусора, типа транскрипций слов на их оригинальном языке, но и, возможно, повыкидывали какие-то нам интересные специфичные слова, типа CEO компаний"
   ]
  },
  {
   "cell_type": "code",
   "execution_count": null,
   "metadata": {
    "collapsed": true
   },
   "outputs": [],
   "source": [
    "from gensim.corpora import WikiCorpus\n",
    "import logging\n",
    "import nltk\n",
    "from nltk.corpus import stopwords\n",
    "\n",
    "def parse_wiki(wiki_bz_file):\n",
    "    output = open('./wiki_text_dump_4.txt', 'w')\n",
    "    wiki = WikiCorpus(wiki_bz_file, lemmatize=False)\n",
    "    wiki.dictionary.filter_extremes(10, 0.2, 60000)\n",
    "    voc = set(wiki.dictionary.values())\n",
    "    for text in wiki.get_texts():\n",
    "        text = [w for w in text if w in voc]\n",
    "        output.write(\" \".join(text) + \"\\n\")\n",
    "    output.close()\n",
    "    return\n",
    "\n",
    "parse_wiki(\"./simplewiki-20170201-pages-articles.xml.bz2\")"
   ]
  },
  {
   "cell_type": "code",
   "execution_count": 153,
   "metadata": {
    "collapsed": true
   },
   "outputs": [],
   "source": [
    "dump = open('wiki_text_dump.txt', 'r')"
   ]
  },
  {
   "cell_type": "markdown",
   "metadata": {},
   "source": [
    "Пользуемся библиотечными функциями построения модели мешка слов с уже использованием метрики tf-idf, заодно бесплатно получаем словари (индекс-слово и слово-индекс)"
   ]
  },
  {
   "cell_type": "code",
   "execution_count": 4,
   "metadata": {
    "collapsed": true
   },
   "outputs": [],
   "source": [
    "LSA_DIMS = 128"
   ]
  },
  {
   "cell_type": "code",
   "execution_count": 5,
   "metadata": {
    "collapsed": false
   },
   "outputs": [],
   "source": [
    "tfidf_maker = TfidfVectorizer(use_idf=True)\n",
    "tfidf_matrix = tfidf_maker.fit_transform(dump)"
   ]
  },
  {
   "cell_type": "code",
   "execution_count": 6,
   "metadata": {
    "collapsed": false
   },
   "outputs": [],
   "source": [
    "VOC_SIZE = tfidf_matrix.shape[1]\n",
    "direct_dict = tfidf_maker.vocabulary_\n",
    "inverted_dict= dict(zip(tfidf_maker.vocabulary_.values(), tfidf_maker.vocabulary_.keys()))"
   ]
  },
  {
   "cell_type": "markdown",
   "metadata": {},
   "source": [
    "У нас остается 49263 слов, транспонируем матрицу чтобы получить в качестве первого аргумента компактные представления слов, а не документов"
   ]
  },
  {
   "cell_type": "code",
   "execution_count": 7,
   "metadata": {
    "collapsed": true
   },
   "outputs": [],
   "source": [
    "tfidf_matrix = tfidf_matrix.transpose()\n",
    "svd_maker = TruncatedSVD(LSA_DIMS)\n",
    "lsa_embending = svd_maker.fit_transform(tfidf_matrix)"
   ]
  },
  {
   "cell_type": "markdown",
   "metadata": {},
   "source": [
    "Для поиска ближайшего соседа воспользуемся scipy.spatial.distance.cdist(X, Y, metric), вычисляющей расстояния между парами строк матриц X и Y (у нас Y это один вектор)"
   ]
  },
  {
   "cell_type": "code",
   "execution_count": 220,
   "metadata": {
    "collapsed": true
   },
   "outputs": [],
   "source": [
    "def find_k_nearest(word, embending_matrix, k, metric):\n",
    "    distances = sc.spatial.distance.cdist(embending_matrix, \n",
    "                                embending_matrix[direct_dict[word]].reshape(1, embending_matrix.shape[1]),\n",
    "                                metric)\n",
    "    distances = distances.flatten()\n",
    "    #order = np.flip(np.argsort(distances), 0)\n",
    "    order = np.argsort(distances)\n",
    "    for index in order[:k]:\n",
    "        print(inverted_dict[index], distances[index])"
   ]
  },
  {
   "cell_type": "code",
   "execution_count": 221,
   "metadata": {
    "collapsed": true
   },
   "outputs": [],
   "source": [
    "def analogy_k_nearest(word1, word2, word3, embending_matrix, k, metric):\n",
    "    word1_vector = embending_matrix[direct_dict[word1]]\n",
    "    word2_vector = embending_matrix[direct_dict[word2]]\n",
    "    word3_vector = embending_matrix[direct_dict[word3]]\n",
    "    new_word_vector = word1_vector - word2_vector + word3_vector\n",
    "    distances = sc.spatial.distance.cdist(embending_matrix, \n",
    "                                new_word_vector.reshape(1, embending_matrix.shape[1]),\n",
    "                                metric)\n",
    "    distances = distances.flatten()\n",
    "    #order = np.flip(np.argsort(distances), 0)\n",
    "    order = np.argsort(distances)\n",
    "    for index in order[:k]:\n",
    "        print(inverted_dict[index], distances[index])"
   ]
  },
  {
   "cell_type": "markdown",
   "metadata": {},
   "source": [
    "Попробуем косинусную и евклидову метрики:"
   ]
  },
  {
   "cell_type": "code",
   "execution_count": 44,
   "metadata": {
    "collapsed": false
   },
   "outputs": [
    {
     "name": "stdout",
     "output_type": "stream",
     "text": [
      "moscow 0.0\n",
      "russia 0.883699106973\n",
      "ukraine 1.1803336427\n",
      "petersburg 1.21000106375\n",
      "ussr 1.2188474658\n",
      "vladimir 1.2504702612\n",
      "ukrainian 1.29045373634\n",
      "azerbaijan 1.31029450225\n",
      "oblast 1.33046432472\n",
      "stalin 1.35004416518\n"
     ]
    }
   ],
   "source": [
    "find_k_nearest('moscow', lsa_embending, 10, 'euclidean')"
   ]
  },
  {
   "cell_type": "code",
   "execution_count": 45,
   "metadata": {
    "collapsed": false
   },
   "outputs": [
    {
     "name": "stdout",
     "output_type": "stream",
     "text": [
      "moscow 0.0\n",
      "sfsr 0.0602608501892\n",
      "mikhailovich 0.0807814219922\n",
      "ussr 0.0912933560467\n",
      "rsfsr 0.0929840528596\n",
      "alexey 0.096461828603\n",
      "russian 0.102589560429\n",
      "russia 0.107139977387\n",
      "leningrad 0.108421061337\n",
      "vladimir 0.110275830755\n"
     ]
    }
   ],
   "source": [
    "find_k_nearest('moscow', lsa_embending, 10, 'cosine')"
   ]
  },
  {
   "cell_type": "markdown",
   "metadata": {},
   "source": [
    "Ну тут евклидово расстояние лучше, как мне показалось. В следующих примерах они почти не отличаются, поэтому не дублирую.\n",
    "\n",
    "Попробуем несколько фруктов:"
   ]
  },
  {
   "cell_type": "code",
   "execution_count": 50,
   "metadata": {
    "collapsed": false
   },
   "outputs": [
    {
     "name": "stdout",
     "output_type": "stream",
     "text": [
      "lemon 0.0\n",
      "flavor 0.0886523454602\n",
      "lime 0.090222836902\n",
      "flavour 0.0938164151009\n",
      "citrus 0.0972033023974\n",
      "ripe 0.0977002573074\n",
      "cabbage 0.0986765694882\n",
      "dessert 0.101080478501\n",
      "tomato 0.102910938012\n",
      "salad 0.102961075697\n"
     ]
    }
   ],
   "source": [
    "find_k_nearest('lemon', lsa_embending, 10, 'euclidean')"
   ]
  },
  {
   "cell_type": "code",
   "execution_count": 56,
   "metadata": {
    "collapsed": false
   },
   "outputs": [
    {
     "name": "stdout",
     "output_type": "stream",
     "text": [
      "apple -2.22044604925e-16\n",
      "ipod 0.119213116488\n",
      "macintosh 0.124605613356\n",
      "smartphones 0.127543201628\n",
      "ipad 0.128858837055\n",
      "laptop 0.129360409955\n",
      "macbook 0.129774602748\n",
      "smartphone 0.130797992492\n",
      "iphone 0.138152389106\n",
      "mac 0.144300614361\n"
     ]
    }
   ],
   "source": [
    "find_k_nearest('apple', lsa_embending, 10, 'cosine')"
   ]
  },
  {
   "cell_type": "markdown",
   "metadata": {},
   "source": [
    "Месяца:"
   ]
  },
  {
   "cell_type": "code",
   "execution_count": 58,
   "metadata": {
    "collapsed": false
   },
   "outputs": [
    {
     "name": "stdout",
     "output_type": "stream",
     "text": [
      "september 0.0\n",
      "october 3.47033050106\n",
      "august 4.02622026177\n",
      "november 4.81791569808\n",
      "date 5.08427781058\n",
      "last 5.09008816918\n",
      "release 5.10044821038\n",
      "premiere 5.11096154313\n",
      "attack 5.12119935908\n",
      "dates 5.14099448655\n"
     ]
    }
   ],
   "source": [
    "find_k_nearest('september', lsa_embending, 10, 'euclidean')"
   ]
  },
  {
   "cell_type": "markdown",
   "metadata": {},
   "source": [
    "Имена:"
   ]
  },
  {
   "cell_type": "code",
   "execution_count": 59,
   "metadata": {
    "collapsed": false
   },
   "outputs": [
    {
     "name": "stdout",
     "output_type": "stream",
     "text": [
      "john 0.0\n",
      "james 2.75094246018\n",
      "william 2.82409697105\n",
      "robert 3.011155897\n",
      "george 3.04199902416\n",
      "paul 3.22960006051\n",
      "richard 3.26245933848\n",
      "david 3.29298931217\n",
      "thomas 3.30773536152\n",
      "henry 3.3694473627\n"
     ]
    }
   ],
   "source": [
    "find_k_nearest('john', lsa_embending, 10, 'euclidean')"
   ]
  },
  {
   "cell_type": "code",
   "execution_count": 128,
   "metadata": {
    "collapsed": false
   },
   "outputs": [
    {
     "name": "stdout",
     "output_type": "stream",
     "text": [
      "nikolay 0.0\n",
      "vasily 0.0439261743251\n",
      "sergey 0.0449594817846\n",
      "dmitry 0.0463020636913\n",
      "aleksandr 0.0470954109758\n",
      "andrey 0.0474920544759\n",
      "anatoly 0.0475145715869\n",
      "konstantin 0.0499051160394\n",
      "valeri 0.0500651587699\n",
      "georgy 0.0502798192769\n"
     ]
    }
   ],
   "source": [
    "find_k_nearest('nikolay', lsa_embending, 10, 'euclidean')"
   ]
  },
  {
   "cell_type": "markdown",
   "metadata": {},
   "source": [
    "Цвета:"
   ]
  },
  {
   "cell_type": "code",
   "execution_count": 66,
   "metadata": {
    "collapsed": false
   },
   "outputs": [
    {
     "name": "stdout",
     "output_type": "stream",
     "text": [
      "yellow 0.0\n",
      "colors 0.47379014052\n",
      "orange 0.55053794548\n",
      "colour 0.564451770496\n",
      "pink 0.610027033409\n",
      "dark 0.610075678198\n",
      "gray 0.615267280116\n",
      "bright 0.645513613244\n",
      "colours 0.668258528486\n",
      "purple 0.669834776168\n"
     ]
    }
   ],
   "source": [
    "find_k_nearest('yellow', lsa_embending, 10, 'euclidean')"
   ]
  },
  {
   "cell_type": "markdown",
   "metadata": {},
   "source": [
    "Репперская тусовка:"
   ]
  },
  {
   "cell_type": "code",
   "execution_count": 74,
   "metadata": {
    "collapsed": false
   },
   "outputs": [
    {
     "name": "stdout",
     "output_type": "stream",
     "text": [
      "tupac 1.11022302463e-16\n",
      "shakur 0.239510804079\n",
      "def 0.240985545588\n",
      "snoop 0.255315024804\n",
      "fella 0.259516491542\n",
      "dre 0.266588258518\n",
      "suge 0.269284774905\n",
      "tha 0.279132040672\n",
      "rapper 0.279375926848\n",
      "outkast 0.288894291479\n"
     ]
    }
   ],
   "source": [
    "find_k_nearest('tupac', lsa_embending, 10, 'cosine')"
   ]
  },
  {
   "cell_type": "markdown",
   "metadata": {},
   "source": [
    "Популярные поисковые запросы:"
   ]
  },
  {
   "cell_type": "code",
   "execution_count": 80,
   "metadata": {
    "collapsed": false
   },
   "outputs": [
    {
     "name": "stdout",
     "output_type": "stream",
     "text": [
      "anime -2.22044604925e-16\n",
      "manga 0.0624306065298\n",
      "naruto 0.213666369095\n",
      "gundam 0.216513070644\n",
      "evangelion 0.234503875928\n",
      "serialized 0.236402825172\n",
      "kanon 0.242176766698\n",
      "shonen 0.244233254329\n",
      "tezuka 0.246253292851\n",
      "viz 0.260989825448\n"
     ]
    }
   ],
   "source": [
    "find_k_nearest('anime', lsa_embending, 10, 'cosine')"
   ]
  },
  {
   "cell_type": "markdown",
   "metadata": {},
   "source": [
    "Черепашки-ниндзя:"
   ]
  },
  {
   "cell_type": "code",
   "execution_count": 95,
   "metadata": {
    "collapsed": false
   },
   "outputs": [
    {
     "name": "stdout",
     "output_type": "stream",
     "text": [
      "raphael 1.11022302463e-16\n",
      "pieta 0.167536562602\n",
      "michelangelo 0.184200239527\n",
      "caravaggio 0.192822334458\n",
      "leonardo 0.216985563271\n",
      "fresco 0.220668300677\n",
      "florence 0.227948880882\n",
      "ghiberti 0.232339690062\n",
      "perugino 0.240436197229\n",
      "botticelli 0.241599801317\n"
     ]
    }
   ],
   "source": [
    "find_k_nearest('raphael', lsa_embending, 10, 'cosine')"
   ]
  },
  {
   "cell_type": "code",
   "execution_count": 99,
   "metadata": {
    "collapsed": false
   },
   "outputs": [
    {
     "name": "stdout",
     "output_type": "stream",
     "text": [
      "toyota 0.0\n",
      "honda 0.167567772156\n",
      "chevrolet 0.172681227214\n",
      "bmw 0.18834224123\n",
      "lap 0.205896811541\n",
      "fastest 0.208820462221\n",
      "fia 0.212374877759\n",
      "chassis 0.213993675298\n",
      "motorsport 0.216746942001\n",
      "truck 0.220272168435\n"
     ]
    }
   ],
   "source": [
    "find_k_nearest('toyota', lsa_embending, 10, 'euclidean')"
   ]
  },
  {
   "cell_type": "code",
   "execution_count": 120,
   "metadata": {
    "collapsed": false
   },
   "outputs": [
    {
     "name": "stdout",
     "output_type": "stream",
     "text": [
      "jupiter 0.0\n",
      "moon 1.79828803283\n",
      "saturn 1.85258099284\n",
      "inclination 2.0913959152\n",
      "moons 2.1802721205\n",
      "spherical 2.22455541589\n",
      "orbital 2.22835574639\n",
      "orbits 2.24766506547\n",
      "diameter 2.333121697\n",
      "eccentricity 2.35156528249\n"
     ]
    }
   ],
   "source": [
    "find_k_nearest('jupiter', lsa_embending, 10, 'euclidean')"
   ]
  },
  {
   "cell_type": "code",
   "execution_count": 125,
   "metadata": {
    "collapsed": false
   },
   "outputs": [
    {
     "name": "stdout",
     "output_type": "stream",
     "text": [
      "frog 0.0\n",
      "frogs 0.201357334659\n",
      "habitat 0.290942160219\n",
      "toad 0.303722560515\n",
      "threatened 0.317480494592\n",
      "iucn 0.327364480016\n",
      "toads 0.341314339281\n",
      "habitats 0.391636883157\n",
      "forests 0.396209216604\n",
      "larvae 0.398212013657\n"
     ]
    }
   ],
   "source": [
    "find_k_nearest('frog', lsa_embending, 10, 'euclidean')"
   ]
  },
  {
   "cell_type": "code",
   "execution_count": 141,
   "metadata": {
    "collapsed": false
   },
   "outputs": [
    {
     "name": "stdout",
     "output_type": "stream",
     "text": [
      "detective 0.0\n",
      "mystery 0.127418379263\n",
      "spy 0.140203969318\n",
      "filming 0.149671423207\n",
      "villain 0.151155531041\n",
      "filmed 0.153389604183\n",
      "vampire 0.154703342347\n",
      "halloween 0.155865803555\n",
      "jake 0.160363008648\n",
      "jeffrey 0.160958695612\n"
     ]
    }
   ],
   "source": [
    "find_k_nearest('detective', lsa_embending, 10, 'euclidean')"
   ]
  },
  {
   "cell_type": "code",
   "execution_count": 124,
   "metadata": {
    "collapsed": false
   },
   "outputs": [
    {
     "name": "stdout",
     "output_type": "stream",
     "text": [
      "frog 2.22044604925e-16\n",
      "frogs 0.0293892815858\n",
      "spadefoot 0.0652917547144\n",
      "tadpoles 0.0736594560537\n",
      "hylidae 0.0760369841944\n",
      "ranidae 0.0780063810245\n",
      "toads 0.0840735029917\n",
      "caecilians 0.0939223371262\n",
      "anura 0.10187769089\n",
      "habitat 0.112937568833\n"
     ]
    }
   ],
   "source": [
    "find_k_nearest('frog', lsa_embending, 10, 'cosine')"
   ]
  },
  {
   "cell_type": "markdown",
   "metadata": {},
   "source": [
    "На лягушках(да и в большинстве проверенных мною примеров) мне больше нравится косинусная мера, выдавшая различные виды лягушек.\n",
    "\n",
    "Подробнее метрики и варианты представления сравним позже"
   ]
  },
  {
   "cell_type": "markdown",
   "metadata": {},
   "source": [
    "# Word2vec\n",
    "\n",
    "Для начала представим наш дамп в виде листа индексов слов (ячейку с открытием файла дампа нужно перезапустить) "
   ]
  },
  {
   "cell_type": "code",
   "execution_count": 154,
   "metadata": {
    "collapsed": false
   },
   "outputs": [],
   "source": [
    "data = []\n",
    "for string in dump:\n",
    "    for word in string.split():\n",
    "        if word in direct_dict.keys():\n",
    "            data.append(direct_dict[word])"
   ]
  },
  {
   "cell_type": "markdown",
   "metadata": {},
   "source": [
    "В качестве размерности векторного представления возьмем 200 (из рекомендуемого в статье промежутка 200-300), 5 негативных примеров для каждой пары слов, размер окна 4, размер батча 200 и количество использований одного слова 8, чтобы перебрать все пары слово-контекст\n",
    "\n",
    "Реализация подсмотрена на просторах гитхаба\n",
    "\n",
    "Количество слов в data 13342413, количество шагов 10000000, за один шаг мы обрабатываем 16 слов(показано позже), получается мы делаем 12 проходов по тексту"
   ]
  },
  {
   "cell_type": "code",
   "execution_count": 194,
   "metadata": {
    "collapsed": false
   },
   "outputs": [],
   "source": [
    "batch_size = 200\n",
    "embedding_size = 200\n",
    "skip_window = 4\n",
    "num_skips = 8\n",
    "NEG_SMPLS = 5\n",
    "num_steps = 10000000\n",
    "w2v_graph = tf.Graph()\n",
    "data_index = 0"
   ]
  },
  {
   "cell_type": "code",
   "execution_count": 195,
   "metadata": {
    "collapsed": false
   },
   "outputs": [
    {
     "data": {
      "text/plain": [
       "13342413"
      ]
     },
     "execution_count": 195,
     "metadata": {},
     "output_type": "execute_result"
    }
   ],
   "source": [
    "len(data)"
   ]
  },
  {
   "cell_type": "code",
   "execution_count": 196,
   "metadata": {
    "collapsed": false
   },
   "outputs": [],
   "source": [
    "def get_batch(batch_size, num_skips, skip_window):\n",
    "    global data_index\n",
    "    batch = np.ndarray(shape=(batch_size), dtype=np.int32)\n",
    "    labels = np.ndarray(shape=(batch_size, 1), dtype=np.int32)\n",
    "    span = 2 * skip_window + 1\n",
    "    buffer = collections.deque(maxlen=span)\n",
    "    for _ in range(span):\n",
    "        buffer.append(data[data_index])\n",
    "        data_index = (data_index + 1) % len(data)\n",
    "    for i in range(batch_size // num_skips):\n",
    "        target = skip_window  # target label at the center of the buffer\n",
    "        targets_to_avoid = [skip_window]\n",
    "        for j in range(num_skips):\n",
    "            while target in targets_to_avoid:\n",
    "                target = random.randint(0, span - 1)\n",
    "            targets_to_avoid.append(target)\n",
    "            batch[i * num_skips + j] = buffer[skip_window]\n",
    "            labels[i * num_skips + j, 0] = buffer[target]\n",
    "        buffer.append(data[data_index])\n",
    "        data_index = (data_index + 1) % len(data)\n",
    "    data_index = (data_index + len(data) - span) % len(data)\n",
    "    return batch, labels"
   ]
  },
  {
   "cell_type": "markdown",
   "metadata": {},
   "source": [
    "Так выглядит наш батч на куске текста:\n",
    "> out four months days **june september november later year april starts same day week july every year starts same day** january leap years april\n",
    "\n",
    "Жирным выделены слова, являющиеся центром окна в какой-то момент"
   ]
  },
  {
   "cell_type": "code",
   "execution_count": 49,
   "metadata": {
    "collapsed": false
   },
   "outputs": [
    {
     "name": "stdout",
     "output_type": "stream",
     "text": [
      "23296 june -> 16708 four\n",
      "23296 june -> 11245 days\n",
      "23296 june -> 48827 year\n",
      "23296 june -> 39572 september\n",
      "23296 june -> 30858 november\n",
      "23296 june -> 24832 later\n",
      "23296 june -> 29049 months\n",
      "23296 june -> 31902 out\n",
      "39572 september -> 30858 november\n",
      "39572 september -> 29049 months\n",
      "39572 september -> 11245 days\n",
      "39572 september -> 2226 april\n",
      "39572 september -> 23296 june\n",
      "39572 september -> 24832 later\n",
      "39572 september -> 48827 year\n",
      "39572 september -> 16708 four\n",
      "30858 november -> 41919 starts\n",
      "30858 november -> 29049 months\n",
      "30858 november -> 48827 year\n",
      "30858 november -> 2226 april\n",
      "30858 november -> 11245 days\n",
      "30858 november -> 23296 june\n",
      "30858 november -> 24832 later\n",
      "30858 november -> 39572 september\n",
      "24832 later -> 23296 june\n",
      "24832 later -> 30858 november\n",
      "24832 later -> 48827 year\n",
      "24832 later -> 39572 september\n",
      "24832 later -> 41919 starts\n",
      "24832 later -> 11245 days\n",
      "24832 later -> 2226 april\n",
      "24832 later -> 38510 same\n",
      "48827 year -> 2226 april\n",
      "48827 year -> 11237 day\n",
      "48827 year -> 24832 later\n",
      "48827 year -> 39572 september\n",
      "48827 year -> 23296 june\n",
      "48827 year -> 38510 same\n",
      "48827 year -> 30858 november\n",
      "48827 year -> 41919 starts\n",
      "2226 april -> 47797 week\n",
      "2226 april -> 30858 november\n",
      "2226 april -> 38510 same\n",
      "2226 april -> 24832 later\n",
      "2226 april -> 11237 day\n",
      "2226 april -> 41919 starts\n",
      "2226 april -> 48827 year\n",
      "2226 april -> 39572 september\n",
      "41919 starts -> 47797 week\n",
      "41919 starts -> 23282 july\n",
      "41919 starts -> 11237 day\n",
      "41919 starts -> 48827 year\n",
      "41919 starts -> 30858 november\n",
      "41919 starts -> 2226 april\n",
      "41919 starts -> 38510 same\n",
      "41919 starts -> 24832 later\n",
      "38510 same -> 2226 april\n",
      "38510 same -> 24832 later\n",
      "38510 same -> 48827 year\n",
      "38510 same -> 23282 july\n",
      "38510 same -> 11237 day\n",
      "38510 same -> 41919 starts\n",
      "38510 same -> 14906 every\n",
      "38510 same -> 47797 week\n",
      "11237 day -> 14906 every\n",
      "11237 day -> 47797 week\n",
      "11237 day -> 41919 starts\n",
      "11237 day -> 2226 april\n",
      "11237 day -> 48827 year\n",
      "11237 day -> 23282 july\n",
      "11237 day -> 48827 year\n",
      "11237 day -> 38510 same\n",
      "47797 week -> 23282 july\n",
      "47797 week -> 48827 year\n",
      "47797 week -> 2226 april\n",
      "47797 week -> 11237 day\n",
      "47797 week -> 14906 every\n",
      "47797 week -> 38510 same\n",
      "47797 week -> 41919 starts\n",
      "47797 week -> 41919 starts\n",
      "23282 july -> 38510 same\n",
      "23282 july -> 47797 week\n",
      "23282 july -> 38510 same\n",
      "23282 july -> 41919 starts\n",
      "23282 july -> 48827 year\n",
      "23282 july -> 11237 day\n",
      "23282 july -> 41919 starts\n",
      "23282 july -> 14906 every\n",
      "14906 every -> 38510 same\n",
      "14906 every -> 48827 year\n",
      "14906 every -> 11237 day\n",
      "14906 every -> 11237 day\n",
      "14906 every -> 38510 same\n",
      "14906 every -> 23282 july\n",
      "14906 every -> 41919 starts\n",
      "14906 every -> 47797 week\n",
      "48827 year -> 22788 january\n",
      "48827 year -> 47797 week\n",
      "48827 year -> 41919 starts\n",
      "48827 year -> 11237 day\n",
      "48827 year -> 23282 july\n",
      "48827 year -> 14906 every\n",
      "48827 year -> 38510 same\n",
      "48827 year -> 11237 day\n",
      "41919 starts -> 23282 july\n",
      "41919 starts -> 22788 january\n",
      "41919 starts -> 48827 year\n",
      "41919 starts -> 38510 same\n",
      "41919 starts -> 25010 leap\n",
      "41919 starts -> 14906 every\n",
      "41919 starts -> 47797 week\n",
      "41919 starts -> 11237 day\n",
      "38510 same -> 41919 starts\n",
      "38510 same -> 14906 every\n",
      "38510 same -> 23282 july\n",
      "38510 same -> 25010 leap\n",
      "38510 same -> 22788 january\n",
      "38510 same -> 11237 day\n",
      "38510 same -> 48827 year\n",
      "38510 same -> 48831 years\n",
      "11237 day -> 38510 same\n",
      "11237 day -> 41919 starts\n",
      "11237 day -> 14906 every\n",
      "11237 day -> 25010 leap\n",
      "11237 day -> 48831 years\n",
      "11237 day -> 48827 year\n",
      "11237 day -> 22788 january\n",
      "11237 day -> 2226 april\n"
     ]
    }
   ],
   "source": [
    "batch, labels = get_batch(batch_size=200, num_skips=8, skip_window=4)\n",
    "for i in range(batch_size):\n",
    "  print(batch[i], inverted_dict[batch[i]],\n",
    "        '->', labels[i, 0], inverted_dict[labels[i, 0]])"
   ]
  },
  {
   "cell_type": "code",
   "execution_count": 199,
   "metadata": {
    "collapsed": false
   },
   "outputs": [],
   "source": [
    "with w2v_graph.as_default():\n",
    "\n",
    "  # Input data.\n",
    "    train_inputs = tf.placeholder(tf.int32, shape=[batch_size])\n",
    "    train_labels = tf.placeholder(tf.int32, shape=[batch_size, 1])\n",
    "\n",
    "    embeddings = tf.Variable(tf.random_uniform([VOC_SIZE, embedding_size], -1.0, 1.0))\n",
    "    embed = tf.nn.embedding_lookup(embeddings, train_inputs)\n",
    "\n",
    "    nce_weights = tf.Variable(tf.truncated_normal([VOC_SIZE, embedding_size],\n",
    "            stddev=1.0 / math.sqrt(embedding_size)))\n",
    "    nce_biases = tf.Variable(tf.zeros([VOC_SIZE]))\n",
    "\n",
    "    loss = tf.reduce_mean( tf.nn.nce_loss(weights=nce_weights,\n",
    "                     biases=nce_biases,\n",
    "                     labels=train_labels,\n",
    "                     inputs=embed,\n",
    "                     num_sampled=NEG_SMPLS,\n",
    "                     num_classes=VOC_SIZE))\n",
    "\n",
    "    optimizer = tf.train.GradientDescentOptimizer(1.0).minimize(loss)\n",
    "\n",
    "    norm = tf.sqrt(tf.reduce_sum(tf.square(embeddings), 1, keep_dims=True))\n",
    "    normalized_embeddings = embeddings / norm\n",
    "\n",
    "  # Add variable initializer.\n",
    "    init = tf.global_variables_initializer()"
   ]
  },
  {
   "cell_type": "code",
   "execution_count": 206,
   "metadata": {
    "collapsed": false
   },
   "outputs": [
    {
     "name": "stdout",
     "output_type": "stream",
     "text": [
      "0 / 10000000\n",
      "10000 / 10000000\n",
      "20000 / 10000000\n",
      "30000 / 10000000\n",
      "40000 / 10000000\n",
      "50000 / 10000000\n",
      "60000 / 10000000\n",
      "70000 / 10000000\n",
      "80000 / 10000000\n",
      "90000 / 10000000\n",
      "100000 / 10000000\n",
      "110000 / 10000000\n",
      "120000 / 10000000\n",
      "130000 / 10000000\n",
      "140000 / 10000000\n",
      "150000 / 10000000\n",
      "160000 / 10000000\n",
      "170000 / 10000000\n",
      "180000 / 10000000\n",
      "190000 / 10000000\n",
      "200000 / 10000000\n",
      "210000 / 10000000\n",
      "220000 / 10000000\n",
      "230000 / 10000000\n",
      "240000 / 10000000\n",
      "250000 / 10000000\n",
      "260000 / 10000000\n",
      "270000 / 10000000\n",
      "280000 / 10000000\n",
      "290000 / 10000000\n",
      "300000 / 10000000\n",
      "310000 / 10000000\n",
      "320000 / 10000000\n",
      "330000 / 10000000\n",
      "340000 / 10000000\n",
      "350000 / 10000000\n",
      "360000 / 10000000\n",
      "370000 / 10000000\n",
      "380000 / 10000000\n",
      "390000 / 10000000\n",
      "400000 / 10000000\n",
      "410000 / 10000000\n",
      "420000 / 10000000\n",
      "430000 / 10000000\n",
      "440000 / 10000000\n",
      "450000 / 10000000\n",
      "460000 / 10000000\n",
      "470000 / 10000000\n",
      "480000 / 10000000\n",
      "490000 / 10000000\n",
      "500000 / 10000000\n",
      "510000 / 10000000\n",
      "520000 / 10000000\n",
      "530000 / 10000000\n",
      "540000 / 10000000\n",
      "550000 / 10000000\n",
      "560000 / 10000000\n",
      "570000 / 10000000\n",
      "580000 / 10000000\n",
      "590000 / 10000000\n",
      "600000 / 10000000\n",
      "610000 / 10000000\n",
      "620000 / 10000000\n",
      "630000 / 10000000\n",
      "640000 / 10000000\n",
      "650000 / 10000000\n",
      "660000 / 10000000\n",
      "670000 / 10000000\n",
      "680000 / 10000000\n",
      "690000 / 10000000\n",
      "700000 / 10000000\n",
      "710000 / 10000000\n",
      "720000 / 10000000\n",
      "730000 / 10000000\n",
      "740000 / 10000000\n",
      "750000 / 10000000\n",
      "760000 / 10000000\n",
      "770000 / 10000000\n",
      "780000 / 10000000\n",
      "790000 / 10000000\n",
      "800000 / 10000000\n",
      "810000 / 10000000\n",
      "820000 / 10000000\n",
      "830000 / 10000000\n",
      "840000 / 10000000\n",
      "850000 / 10000000\n",
      "860000 / 10000000\n",
      "870000 / 10000000\n",
      "880000 / 10000000\n",
      "890000 / 10000000\n",
      "900000 / 10000000\n",
      "910000 / 10000000\n",
      "920000 / 10000000\n",
      "930000 / 10000000\n",
      "940000 / 10000000\n",
      "950000 / 10000000\n",
      "960000 / 10000000\n",
      "970000 / 10000000\n",
      "980000 / 10000000\n",
      "990000 / 10000000\n",
      "1000000 / 10000000\n",
      "1010000 / 10000000\n",
      "1020000 / 10000000\n",
      "1030000 / 10000000\n",
      "1040000 / 10000000\n",
      "1050000 / 10000000\n",
      "1060000 / 10000000\n",
      "1070000 / 10000000\n",
      "1080000 / 10000000\n",
      "1090000 / 10000000\n",
      "1100000 / 10000000\n",
      "1110000 / 10000000\n",
      "1120000 / 10000000\n",
      "1130000 / 10000000\n",
      "1140000 / 10000000\n",
      "1150000 / 10000000\n",
      "1160000 / 10000000\n",
      "1170000 / 10000000\n",
      "1180000 / 10000000\n",
      "1190000 / 10000000\n",
      "1200000 / 10000000\n",
      "1210000 / 10000000\n",
      "1220000 / 10000000\n",
      "1230000 / 10000000\n",
      "1240000 / 10000000\n",
      "1250000 / 10000000\n",
      "1260000 / 10000000\n",
      "1270000 / 10000000\n",
      "1280000 / 10000000\n",
      "1290000 / 10000000\n",
      "1300000 / 10000000\n",
      "1310000 / 10000000\n",
      "1320000 / 10000000\n",
      "1330000 / 10000000\n",
      "1340000 / 10000000\n",
      "1350000 / 10000000\n",
      "1360000 / 10000000\n",
      "1370000 / 10000000\n",
      "1380000 / 10000000\n",
      "1390000 / 10000000\n",
      "1400000 / 10000000\n",
      "1410000 / 10000000\n",
      "1420000 / 10000000\n",
      "1430000 / 10000000\n",
      "1440000 / 10000000\n",
      "1450000 / 10000000\n",
      "1460000 / 10000000\n",
      "1470000 / 10000000\n",
      "1480000 / 10000000\n",
      "1490000 / 10000000\n",
      "1500000 / 10000000\n",
      "1510000 / 10000000\n",
      "1520000 / 10000000\n",
      "1530000 / 10000000\n",
      "1540000 / 10000000\n",
      "1550000 / 10000000\n",
      "1560000 / 10000000\n",
      "1570000 / 10000000\n",
      "1580000 / 10000000\n",
      "1590000 / 10000000\n",
      "1600000 / 10000000\n",
      "1610000 / 10000000\n",
      "1620000 / 10000000\n",
      "1630000 / 10000000\n",
      "1640000 / 10000000\n",
      "1650000 / 10000000\n",
      "1660000 / 10000000\n",
      "1670000 / 10000000\n",
      "1680000 / 10000000\n",
      "1690000 / 10000000\n",
      "1700000 / 10000000\n",
      "1710000 / 10000000\n",
      "1720000 / 10000000\n",
      "1730000 / 10000000\n",
      "1740000 / 10000000\n",
      "1750000 / 10000000\n",
      "1760000 / 10000000\n",
      "1770000 / 10000000\n",
      "1780000 / 10000000\n",
      "1790000 / 10000000\n",
      "1800000 / 10000000\n",
      "1810000 / 10000000\n",
      "1820000 / 10000000\n",
      "1830000 / 10000000\n",
      "1840000 / 10000000\n",
      "1850000 / 10000000\n",
      "1860000 / 10000000\n",
      "1870000 / 10000000\n",
      "1880000 / 10000000\n",
      "1890000 / 10000000\n",
      "1900000 / 10000000\n",
      "1910000 / 10000000\n",
      "1920000 / 10000000\n",
      "1930000 / 10000000\n",
      "1940000 / 10000000\n",
      "1950000 / 10000000\n",
      "1960000 / 10000000\n",
      "1970000 / 10000000\n",
      "1980000 / 10000000\n",
      "1990000 / 10000000\n",
      "2000000 / 10000000\n",
      "2010000 / 10000000\n",
      "2020000 / 10000000\n",
      "2030000 / 10000000\n",
      "2040000 / 10000000\n",
      "2050000 / 10000000\n",
      "2060000 / 10000000\n",
      "2070000 / 10000000\n",
      "2080000 / 10000000\n",
      "2090000 / 10000000\n",
      "2100000 / 10000000\n",
      "2110000 / 10000000\n",
      "2120000 / 10000000\n",
      "2130000 / 10000000\n",
      "2140000 / 10000000\n",
      "2150000 / 10000000\n",
      "2160000 / 10000000\n",
      "2170000 / 10000000\n",
      "2180000 / 10000000\n",
      "2190000 / 10000000\n",
      "2200000 / 10000000\n",
      "2210000 / 10000000\n",
      "2220000 / 10000000\n",
      "2230000 / 10000000\n",
      "2240000 / 10000000\n",
      "2250000 / 10000000\n",
      "2260000 / 10000000\n",
      "2270000 / 10000000\n",
      "2280000 / 10000000\n",
      "2290000 / 10000000\n",
      "2300000 / 10000000\n",
      "2310000 / 10000000\n",
      "2320000 / 10000000\n",
      "2330000 / 10000000\n",
      "2340000 / 10000000\n",
      "2350000 / 10000000\n",
      "2360000 / 10000000\n",
      "2370000 / 10000000\n",
      "2380000 / 10000000\n",
      "2390000 / 10000000\n",
      "2400000 / 10000000\n",
      "2410000 / 10000000\n",
      "2420000 / 10000000\n",
      "2430000 / 10000000\n",
      "2440000 / 10000000\n",
      "2450000 / 10000000\n",
      "2460000 / 10000000\n",
      "2470000 / 10000000\n",
      "2480000 / 10000000\n",
      "2490000 / 10000000\n",
      "2500000 / 10000000\n",
      "2510000 / 10000000\n",
      "2520000 / 10000000\n",
      "2530000 / 10000000\n",
      "2540000 / 10000000\n",
      "2550000 / 10000000\n",
      "2560000 / 10000000\n",
      "2570000 / 10000000\n",
      "2580000 / 10000000\n",
      "2590000 / 10000000\n",
      "2600000 / 10000000\n",
      "2610000 / 10000000\n",
      "2620000 / 10000000\n",
      "2630000 / 10000000\n",
      "2640000 / 10000000\n",
      "2650000 / 10000000\n",
      "2660000 / 10000000\n",
      "2670000 / 10000000\n",
      "2680000 / 10000000\n",
      "2690000 / 10000000\n",
      "2700000 / 10000000\n",
      "2710000 / 10000000\n",
      "2720000 / 10000000\n",
      "2730000 / 10000000\n",
      "2740000 / 10000000\n",
      "2750000 / 10000000\n",
      "2760000 / 10000000\n",
      "2770000 / 10000000\n",
      "2780000 / 10000000\n",
      "2790000 / 10000000\n",
      "2800000 / 10000000\n",
      "2810000 / 10000000\n",
      "2820000 / 10000000\n",
      "2830000 / 10000000\n",
      "2840000 / 10000000\n",
      "2850000 / 10000000\n",
      "2860000 / 10000000\n",
      "2870000 / 10000000\n",
      "2880000 / 10000000\n",
      "2890000 / 10000000\n",
      "2900000 / 10000000\n",
      "2910000 / 10000000\n",
      "2920000 / 10000000\n",
      "2930000 / 10000000\n",
      "2940000 / 10000000\n",
      "2950000 / 10000000\n",
      "2960000 / 10000000\n",
      "2970000 / 10000000\n",
      "2980000 / 10000000\n",
      "2990000 / 10000000\n",
      "3000000 / 10000000\n",
      "3010000 / 10000000\n",
      "3020000 / 10000000\n",
      "3030000 / 10000000\n",
      "3040000 / 10000000\n",
      "3050000 / 10000000\n",
      "3060000 / 10000000\n",
      "3070000 / 10000000\n",
      "3080000 / 10000000\n",
      "3090000 / 10000000\n",
      "3100000 / 10000000\n",
      "3110000 / 10000000\n",
      "3120000 / 10000000\n",
      "3130000 / 10000000\n",
      "3140000 / 10000000\n",
      "3150000 / 10000000\n",
      "3160000 / 10000000\n",
      "3170000 / 10000000\n",
      "3180000 / 10000000\n",
      "3190000 / 10000000\n",
      "3200000 / 10000000\n",
      "3210000 / 10000000\n",
      "3220000 / 10000000\n",
      "3230000 / 10000000\n",
      "3240000 / 10000000\n",
      "3250000 / 10000000\n",
      "3260000 / 10000000\n",
      "3270000 / 10000000\n",
      "3280000 / 10000000\n",
      "3290000 / 10000000\n",
      "3300000 / 10000000\n",
      "3310000 / 10000000\n",
      "3320000 / 10000000\n",
      "3330000 / 10000000\n",
      "3340000 / 10000000\n",
      "3350000 / 10000000\n",
      "3360000 / 10000000\n",
      "3370000 / 10000000\n",
      "3380000 / 10000000\n",
      "3390000 / 10000000\n",
      "3400000 / 10000000\n",
      "3410000 / 10000000\n",
      "3420000 / 10000000\n",
      "3430000 / 10000000\n",
      "3440000 / 10000000\n",
      "3450000 / 10000000\n",
      "3460000 / 10000000\n",
      "3470000 / 10000000\n",
      "3480000 / 10000000\n",
      "3490000 / 10000000\n",
      "3500000 / 10000000\n",
      "3510000 / 10000000\n",
      "3520000 / 10000000\n",
      "3530000 / 10000000\n",
      "3540000 / 10000000\n",
      "3550000 / 10000000\n",
      "3560000 / 10000000\n",
      "3570000 / 10000000\n",
      "3580000 / 10000000\n",
      "3590000 / 10000000\n",
      "3600000 / 10000000\n",
      "3610000 / 10000000\n",
      "3620000 / 10000000\n",
      "3630000 / 10000000\n",
      "3640000 / 10000000\n",
      "3650000 / 10000000\n",
      "3660000 / 10000000\n",
      "3670000 / 10000000\n",
      "3680000 / 10000000\n",
      "3690000 / 10000000\n",
      "3700000 / 10000000\n",
      "3710000 / 10000000\n",
      "3720000 / 10000000\n",
      "3730000 / 10000000\n",
      "3740000 / 10000000\n",
      "3750000 / 10000000\n",
      "3760000 / 10000000\n",
      "3770000 / 10000000\n",
      "3780000 / 10000000\n",
      "3790000 / 10000000\n",
      "3800000 / 10000000\n",
      "3810000 / 10000000\n",
      "3820000 / 10000000\n",
      "3830000 / 10000000\n",
      "3840000 / 10000000\n",
      "3850000 / 10000000\n",
      "3860000 / 10000000\n",
      "3870000 / 10000000\n",
      "3880000 / 10000000\n",
      "3890000 / 10000000\n",
      "3900000 / 10000000\n",
      "3910000 / 10000000\n",
      "3920000 / 10000000\n",
      "3930000 / 10000000\n",
      "3940000 / 10000000\n",
      "3950000 / 10000000\n",
      "3960000 / 10000000\n",
      "3970000 / 10000000\n",
      "3980000 / 10000000\n",
      "3990000 / 10000000\n",
      "4000000 / 10000000\n",
      "4010000 / 10000000\n",
      "4020000 / 10000000\n",
      "4030000 / 10000000\n",
      "4040000 / 10000000\n",
      "4050000 / 10000000\n",
      "4060000 / 10000000\n",
      "4070000 / 10000000\n",
      "4080000 / 10000000\n",
      "4090000 / 10000000\n",
      "4100000 / 10000000\n",
      "4110000 / 10000000\n",
      "4120000 / 10000000\n",
      "4130000 / 10000000\n",
      "4140000 / 10000000\n",
      "4150000 / 10000000\n",
      "4160000 / 10000000\n",
      "4170000 / 10000000\n",
      "4180000 / 10000000\n",
      "4190000 / 10000000\n",
      "4200000 / 10000000\n",
      "4210000 / 10000000\n",
      "4220000 / 10000000\n",
      "4230000 / 10000000\n",
      "4240000 / 10000000\n",
      "4250000 / 10000000\n",
      "4260000 / 10000000\n",
      "4270000 / 10000000\n",
      "4280000 / 10000000\n",
      "4290000 / 10000000\n",
      "4300000 / 10000000\n",
      "4310000 / 10000000\n",
      "4320000 / 10000000\n",
      "4330000 / 10000000\n",
      "4340000 / 10000000\n",
      "4350000 / 10000000\n",
      "4360000 / 10000000\n",
      "4370000 / 10000000\n",
      "4380000 / 10000000\n",
      "4390000 / 10000000\n",
      "4400000 / 10000000\n",
      "4410000 / 10000000\n",
      "4420000 / 10000000\n",
      "4430000 / 10000000\n",
      "4440000 / 10000000\n",
      "4450000 / 10000000\n",
      "4460000 / 10000000\n",
      "4470000 / 10000000\n",
      "4480000 / 10000000\n",
      "4490000 / 10000000\n",
      "4500000 / 10000000\n",
      "4510000 / 10000000\n",
      "4520000 / 10000000\n",
      "4530000 / 10000000\n",
      "4540000 / 10000000\n",
      "4550000 / 10000000\n",
      "4560000 / 10000000\n",
      "4570000 / 10000000\n",
      "4580000 / 10000000\n",
      "4590000 / 10000000\n",
      "4600000 / 10000000\n",
      "4610000 / 10000000\n",
      "4620000 / 10000000\n",
      "4630000 / 10000000\n",
      "4640000 / 10000000\n",
      "4650000 / 10000000\n",
      "4660000 / 10000000\n",
      "4670000 / 10000000\n",
      "4680000 / 10000000\n",
      "4690000 / 10000000\n",
      "4700000 / 10000000\n",
      "4710000 / 10000000\n",
      "4720000 / 10000000\n",
      "4730000 / 10000000\n",
      "4740000 / 10000000\n",
      "4750000 / 10000000\n",
      "4760000 / 10000000\n",
      "4770000 / 10000000\n",
      "4780000 / 10000000\n",
      "4790000 / 10000000\n",
      "4800000 / 10000000\n",
      "4810000 / 10000000\n",
      "4820000 / 10000000\n",
      "4830000 / 10000000\n",
      "4840000 / 10000000\n",
      "4850000 / 10000000\n",
      "4860000 / 10000000\n",
      "4870000 / 10000000\n",
      "4880000 / 10000000\n",
      "4890000 / 10000000\n",
      "4900000 / 10000000\n",
      "4910000 / 10000000\n",
      "4920000 / 10000000\n",
      "4930000 / 10000000\n",
      "4940000 / 10000000\n",
      "4950000 / 10000000\n",
      "4960000 / 10000000\n",
      "4970000 / 10000000\n",
      "4980000 / 10000000\n",
      "4990000 / 10000000\n",
      "5000000 / 10000000\n",
      "5010000 / 10000000\n",
      "5020000 / 10000000\n",
      "5030000 / 10000000\n",
      "5040000 / 10000000\n",
      "5050000 / 10000000\n",
      "5060000 / 10000000\n",
      "5070000 / 10000000\n",
      "5080000 / 10000000\n",
      "5090000 / 10000000\n",
      "5100000 / 10000000\n",
      "5110000 / 10000000\n",
      "5120000 / 10000000\n",
      "5130000 / 10000000\n",
      "5140000 / 10000000\n",
      "5150000 / 10000000\n",
      "5160000 / 10000000\n",
      "5170000 / 10000000\n",
      "5180000 / 10000000\n",
      "5190000 / 10000000\n",
      "5200000 / 10000000\n",
      "5210000 / 10000000\n",
      "5220000 / 10000000\n",
      "5230000 / 10000000\n",
      "5240000 / 10000000\n",
      "5250000 / 10000000\n",
      "5260000 / 10000000\n",
      "5270000 / 10000000\n",
      "5280000 / 10000000\n",
      "5290000 / 10000000\n",
      "5300000 / 10000000\n",
      "5310000 / 10000000\n",
      "5320000 / 10000000\n",
      "5330000 / 10000000\n",
      "5340000 / 10000000\n",
      "5350000 / 10000000\n",
      "5360000 / 10000000\n",
      "5370000 / 10000000\n",
      "5380000 / 10000000\n",
      "5390000 / 10000000\n",
      "5400000 / 10000000\n",
      "5410000 / 10000000\n",
      "5420000 / 10000000\n",
      "5430000 / 10000000\n",
      "5440000 / 10000000\n",
      "5450000 / 10000000\n",
      "5460000 / 10000000\n",
      "5470000 / 10000000\n",
      "5480000 / 10000000\n",
      "5490000 / 10000000\n",
      "5500000 / 10000000\n",
      "5510000 / 10000000\n",
      "5520000 / 10000000\n",
      "5530000 / 10000000\n",
      "5540000 / 10000000\n",
      "5550000 / 10000000\n",
      "5560000 / 10000000\n",
      "5570000 / 10000000\n",
      "5580000 / 10000000\n",
      "5590000 / 10000000\n",
      "5600000 / 10000000\n",
      "5610000 / 10000000\n",
      "5620000 / 10000000\n",
      "5630000 / 10000000\n",
      "5640000 / 10000000\n",
      "5650000 / 10000000\n",
      "5660000 / 10000000\n",
      "5670000 / 10000000\n",
      "5680000 / 10000000\n",
      "5690000 / 10000000\n",
      "5700000 / 10000000\n",
      "5710000 / 10000000\n",
      "5720000 / 10000000\n",
      "5730000 / 10000000\n",
      "5740000 / 10000000\n",
      "5750000 / 10000000\n",
      "5760000 / 10000000\n",
      "5770000 / 10000000\n",
      "5780000 / 10000000\n",
      "5790000 / 10000000\n",
      "5800000 / 10000000\n",
      "5810000 / 10000000\n",
      "5820000 / 10000000\n",
      "5830000 / 10000000\n",
      "5840000 / 10000000\n",
      "5850000 / 10000000\n",
      "5860000 / 10000000\n",
      "5870000 / 10000000\n",
      "5880000 / 10000000\n",
      "5890000 / 10000000\n",
      "5900000 / 10000000\n",
      "5910000 / 10000000\n",
      "5920000 / 10000000\n",
      "5930000 / 10000000\n",
      "5940000 / 10000000\n",
      "5950000 / 10000000\n",
      "5960000 / 10000000\n",
      "5970000 / 10000000\n",
      "5980000 / 10000000\n",
      "5990000 / 10000000\n",
      "6000000 / 10000000\n",
      "6010000 / 10000000\n",
      "6020000 / 10000000\n",
      "6030000 / 10000000\n",
      "6040000 / 10000000\n",
      "6050000 / 10000000\n",
      "6060000 / 10000000\n",
      "6070000 / 10000000\n",
      "6080000 / 10000000\n",
      "6090000 / 10000000\n",
      "6100000 / 10000000\n",
      "6110000 / 10000000\n",
      "6120000 / 10000000\n",
      "6130000 / 10000000\n",
      "6140000 / 10000000\n",
      "6150000 / 10000000\n",
      "6160000 / 10000000\n",
      "6170000 / 10000000\n",
      "6180000 / 10000000\n",
      "6190000 / 10000000\n",
      "6200000 / 10000000\n",
      "6210000 / 10000000\n",
      "6220000 / 10000000\n",
      "6230000 / 10000000\n",
      "6240000 / 10000000\n",
      "6250000 / 10000000\n",
      "6260000 / 10000000\n",
      "6270000 / 10000000\n",
      "6280000 / 10000000\n",
      "6290000 / 10000000\n",
      "6300000 / 10000000\n",
      "6310000 / 10000000\n",
      "6320000 / 10000000\n",
      "6330000 / 10000000\n",
      "6340000 / 10000000\n",
      "6350000 / 10000000\n",
      "6360000 / 10000000\n",
      "6370000 / 10000000\n",
      "6380000 / 10000000\n",
      "6390000 / 10000000\n",
      "6400000 / 10000000\n",
      "6410000 / 10000000\n",
      "6420000 / 10000000\n",
      "6430000 / 10000000\n",
      "6440000 / 10000000\n",
      "6450000 / 10000000\n",
      "6460000 / 10000000\n",
      "6470000 / 10000000\n",
      "6480000 / 10000000\n",
      "6490000 / 10000000\n",
      "6500000 / 10000000\n",
      "6510000 / 10000000\n",
      "6520000 / 10000000\n",
      "6530000 / 10000000\n",
      "6540000 / 10000000\n",
      "6550000 / 10000000\n",
      "6560000 / 10000000\n",
      "6570000 / 10000000\n",
      "6580000 / 10000000\n",
      "6590000 / 10000000\n",
      "6600000 / 10000000\n",
      "6610000 / 10000000\n",
      "6620000 / 10000000\n",
      "6630000 / 10000000\n",
      "6640000 / 10000000\n",
      "6650000 / 10000000\n",
      "6660000 / 10000000\n",
      "6670000 / 10000000\n",
      "6680000 / 10000000\n",
      "6690000 / 10000000\n",
      "6700000 / 10000000\n",
      "6710000 / 10000000\n",
      "6720000 / 10000000\n",
      "6730000 / 10000000\n",
      "6740000 / 10000000\n",
      "6750000 / 10000000\n",
      "6760000 / 10000000\n",
      "6770000 / 10000000\n",
      "6780000 / 10000000\n",
      "6790000 / 10000000\n",
      "6800000 / 10000000\n",
      "6810000 / 10000000\n",
      "6820000 / 10000000\n",
      "6830000 / 10000000\n",
      "6840000 / 10000000\n",
      "6850000 / 10000000\n",
      "6860000 / 10000000\n",
      "6870000 / 10000000\n",
      "6880000 / 10000000\n",
      "6890000 / 10000000\n",
      "6900000 / 10000000\n",
      "6910000 / 10000000\n",
      "6920000 / 10000000\n",
      "6930000 / 10000000\n",
      "6940000 / 10000000\n",
      "6950000 / 10000000\n",
      "6960000 / 10000000\n",
      "6970000 / 10000000\n",
      "6980000 / 10000000\n",
      "6990000 / 10000000\n",
      "7000000 / 10000000\n",
      "7010000 / 10000000\n",
      "7020000 / 10000000\n",
      "7030000 / 10000000\n",
      "7040000 / 10000000\n",
      "7050000 / 10000000\n",
      "7060000 / 10000000\n",
      "7070000 / 10000000\n",
      "7080000 / 10000000\n",
      "7090000 / 10000000\n",
      "7100000 / 10000000\n",
      "7110000 / 10000000\n",
      "7120000 / 10000000\n",
      "7130000 / 10000000\n",
      "7140000 / 10000000\n",
      "7150000 / 10000000\n",
      "7160000 / 10000000\n",
      "7170000 / 10000000\n",
      "7180000 / 10000000\n",
      "7190000 / 10000000\n",
      "7200000 / 10000000\n",
      "7210000 / 10000000\n",
      "7220000 / 10000000\n",
      "7230000 / 10000000\n",
      "7240000 / 10000000\n",
      "7250000 / 10000000\n",
      "7260000 / 10000000\n",
      "7270000 / 10000000\n",
      "7280000 / 10000000\n",
      "7290000 / 10000000\n",
      "7300000 / 10000000\n",
      "7310000 / 10000000\n",
      "7320000 / 10000000\n",
      "7330000 / 10000000\n",
      "7340000 / 10000000\n",
      "7350000 / 10000000\n",
      "7360000 / 10000000\n",
      "7370000 / 10000000\n",
      "7380000 / 10000000\n",
      "7390000 / 10000000\n",
      "7400000 / 10000000\n",
      "7410000 / 10000000\n",
      "7420000 / 10000000\n",
      "7430000 / 10000000\n",
      "7440000 / 10000000\n",
      "7450000 / 10000000\n",
      "7460000 / 10000000\n",
      "7470000 / 10000000\n",
      "7480000 / 10000000\n",
      "7490000 / 10000000\n",
      "7500000 / 10000000\n",
      "7510000 / 10000000\n",
      "7520000 / 10000000\n",
      "7530000 / 10000000\n",
      "7540000 / 10000000\n",
      "7550000 / 10000000\n",
      "7560000 / 10000000\n",
      "7570000 / 10000000\n",
      "7580000 / 10000000\n",
      "7590000 / 10000000\n",
      "7600000 / 10000000\n",
      "7610000 / 10000000\n",
      "7620000 / 10000000\n",
      "7630000 / 10000000\n",
      "7640000 / 10000000\n",
      "7650000 / 10000000\n",
      "7660000 / 10000000\n",
      "7670000 / 10000000\n",
      "7680000 / 10000000\n",
      "7690000 / 10000000\n",
      "7700000 / 10000000\n",
      "7710000 / 10000000\n",
      "7720000 / 10000000\n",
      "7730000 / 10000000\n",
      "7740000 / 10000000\n",
      "7750000 / 10000000\n",
      "7760000 / 10000000\n",
      "7770000 / 10000000\n",
      "7780000 / 10000000\n",
      "7790000 / 10000000\n",
      "7800000 / 10000000\n",
      "7810000 / 10000000\n",
      "7820000 / 10000000\n",
      "7830000 / 10000000\n",
      "7840000 / 10000000\n",
      "7850000 / 10000000\n",
      "7860000 / 10000000\n",
      "7870000 / 10000000\n",
      "7880000 / 10000000\n",
      "7890000 / 10000000\n",
      "7900000 / 10000000\n",
      "7910000 / 10000000\n",
      "7920000 / 10000000\n",
      "7930000 / 10000000\n",
      "7940000 / 10000000\n",
      "7950000 / 10000000\n",
      "7960000 / 10000000\n",
      "7970000 / 10000000\n",
      "7980000 / 10000000\n",
      "7990000 / 10000000\n",
      "8000000 / 10000000\n",
      "8010000 / 10000000\n",
      "8020000 / 10000000\n",
      "8030000 / 10000000\n",
      "8040000 / 10000000\n",
      "8050000 / 10000000\n",
      "8060000 / 10000000\n",
      "8070000 / 10000000\n",
      "8080000 / 10000000\n",
      "8090000 / 10000000\n",
      "8100000 / 10000000\n",
      "8110000 / 10000000\n",
      "8120000 / 10000000\n",
      "8130000 / 10000000\n",
      "8140000 / 10000000\n",
      "8150000 / 10000000\n",
      "8160000 / 10000000\n",
      "8170000 / 10000000\n",
      "8180000 / 10000000\n",
      "8190000 / 10000000\n",
      "8200000 / 10000000\n",
      "8210000 / 10000000\n",
      "8220000 / 10000000\n",
      "8230000 / 10000000\n",
      "8240000 / 10000000\n",
      "8250000 / 10000000\n",
      "8260000 / 10000000\n",
      "8270000 / 10000000\n",
      "8280000 / 10000000\n",
      "8290000 / 10000000\n",
      "8300000 / 10000000\n",
      "8310000 / 10000000\n",
      "8320000 / 10000000\n",
      "8330000 / 10000000\n",
      "8340000 / 10000000\n",
      "8350000 / 10000000\n",
      "8360000 / 10000000\n",
      "8370000 / 10000000\n",
      "8380000 / 10000000\n",
      "8390000 / 10000000\n",
      "8400000 / 10000000\n",
      "8410000 / 10000000\n",
      "8420000 / 10000000\n",
      "8430000 / 10000000\n",
      "8440000 / 10000000\n",
      "8450000 / 10000000\n",
      "8460000 / 10000000\n",
      "8470000 / 10000000\n",
      "8480000 / 10000000\n",
      "8490000 / 10000000\n",
      "8500000 / 10000000\n",
      "8510000 / 10000000\n",
      "8520000 / 10000000\n",
      "8530000 / 10000000\n",
      "8540000 / 10000000\n",
      "8550000 / 10000000\n",
      "8560000 / 10000000\n",
      "8570000 / 10000000\n",
      "8580000 / 10000000\n",
      "8590000 / 10000000\n",
      "8600000 / 10000000\n",
      "8610000 / 10000000\n",
      "8620000 / 10000000\n",
      "8630000 / 10000000\n",
      "8640000 / 10000000\n",
      "8650000 / 10000000\n",
      "8660000 / 10000000\n",
      "8670000 / 10000000\n",
      "8680000 / 10000000\n",
      "8690000 / 10000000\n",
      "8700000 / 10000000\n",
      "8710000 / 10000000\n",
      "8720000 / 10000000\n",
      "8730000 / 10000000\n",
      "8740000 / 10000000\n",
      "8750000 / 10000000\n",
      "8760000 / 10000000\n",
      "8770000 / 10000000\n",
      "8780000 / 10000000\n",
      "8790000 / 10000000\n",
      "8800000 / 10000000\n",
      "8810000 / 10000000\n",
      "8820000 / 10000000\n",
      "8830000 / 10000000\n",
      "8840000 / 10000000\n",
      "8850000 / 10000000\n",
      "8860000 / 10000000\n",
      "8870000 / 10000000\n",
      "8880000 / 10000000\n",
      "8890000 / 10000000\n",
      "8900000 / 10000000\n",
      "8910000 / 10000000\n",
      "8920000 / 10000000\n",
      "8930000 / 10000000\n",
      "8940000 / 10000000\n",
      "8950000 / 10000000\n",
      "8960000 / 10000000\n",
      "8970000 / 10000000\n",
      "8980000 / 10000000\n",
      "8990000 / 10000000\n",
      "9000000 / 10000000\n",
      "9010000 / 10000000\n",
      "9020000 / 10000000\n",
      "9030000 / 10000000\n",
      "9040000 / 10000000\n",
      "9050000 / 10000000\n",
      "9060000 / 10000000\n",
      "9070000 / 10000000\n",
      "9080000 / 10000000\n",
      "9090000 / 10000000\n",
      "9100000 / 10000000\n",
      "9110000 / 10000000\n",
      "9120000 / 10000000\n",
      "9130000 / 10000000\n",
      "9140000 / 10000000\n",
      "9150000 / 10000000\n",
      "9160000 / 10000000\n",
      "9170000 / 10000000\n",
      "9180000 / 10000000\n",
      "9190000 / 10000000\n",
      "9200000 / 10000000\n",
      "9210000 / 10000000\n",
      "9220000 / 10000000\n",
      "9230000 / 10000000\n",
      "9240000 / 10000000\n",
      "9250000 / 10000000\n",
      "9260000 / 10000000\n",
      "9270000 / 10000000\n",
      "9280000 / 10000000\n",
      "9290000 / 10000000\n",
      "9300000 / 10000000\n",
      "9310000 / 10000000\n",
      "9320000 / 10000000\n",
      "9330000 / 10000000\n",
      "9340000 / 10000000\n",
      "9350000 / 10000000\n",
      "9360000 / 10000000\n",
      "9370000 / 10000000\n",
      "9380000 / 10000000\n",
      "9390000 / 10000000\n",
      "9400000 / 10000000\n",
      "9410000 / 10000000\n",
      "9420000 / 10000000\n",
      "9430000 / 10000000\n",
      "9440000 / 10000000\n",
      "9450000 / 10000000\n",
      "9460000 / 10000000\n",
      "9470000 / 10000000\n",
      "9480000 / 10000000\n",
      "9490000 / 10000000\n",
      "9500000 / 10000000\n",
      "9510000 / 10000000\n",
      "9520000 / 10000000\n",
      "9530000 / 10000000\n",
      "9540000 / 10000000\n",
      "9550000 / 10000000\n",
      "9560000 / 10000000\n",
      "9570000 / 10000000\n",
      "9580000 / 10000000\n",
      "9590000 / 10000000\n",
      "9600000 / 10000000\n",
      "9610000 / 10000000\n",
      "9620000 / 10000000\n",
      "9630000 / 10000000\n",
      "9640000 / 10000000\n",
      "9650000 / 10000000\n",
      "9660000 / 10000000\n",
      "9670000 / 10000000\n",
      "9680000 / 10000000\n",
      "9690000 / 10000000\n",
      "9700000 / 10000000\n",
      "9710000 / 10000000\n",
      "9720000 / 10000000\n",
      "9730000 / 10000000\n",
      "9740000 / 10000000\n",
      "9750000 / 10000000\n",
      "9760000 / 10000000\n",
      "9770000 / 10000000\n",
      "9780000 / 10000000\n",
      "9790000 / 10000000\n",
      "9800000 / 10000000\n",
      "9810000 / 10000000\n",
      "9820000 / 10000000\n",
      "9830000 / 10000000\n",
      "9840000 / 10000000\n",
      "9850000 / 10000000\n",
      "9860000 / 10000000\n",
      "9870000 / 10000000\n",
      "9880000 / 10000000\n",
      "9890000 / 10000000\n",
      "9900000 / 10000000\n",
      "9910000 / 10000000\n",
      "9920000 / 10000000\n",
      "9930000 / 10000000\n",
      "9940000 / 10000000\n",
      "9950000 / 10000000\n",
      "9960000 / 10000000\n",
      "9970000 / 10000000\n",
      "9980000 / 10000000\n",
      "9990000 / 10000000\n"
     ]
    }
   ],
   "source": [
    "loss_history = []\n",
    "\n",
    "with tf.Session(graph=w2v_graph) as session:\n",
    "    init.run()\n",
    "    average_loss = 0\n",
    "    for step in range(num_steps):\n",
    "        batch_inputs, batch_labels = get_batch(batch_size, num_skips, skip_window)\n",
    "        feed_dict = {train_inputs: batch_inputs, train_labels: batch_labels}\n",
    "\n",
    "        _, loss_val = session.run([optimizer, loss], feed_dict=feed_dict)\n",
    "        average_loss += loss_val\n",
    "        if step % 10000 == 0:\n",
    "            if step > 0:\n",
    "                average_loss /= 10000\n",
    "            loss_history.append(average_loss)\n",
    "            print(step, '/', num_steps)\n",
    "            average_loss = 0\n",
    "\n",
    "    w2v_embeddings = normalized_embeddings.eval()"
   ]
  },
  {
   "cell_type": "code",
   "execution_count": 224,
   "metadata": {
    "collapsed": true
   },
   "outputs": [],
   "source": [
    "w2v_embeddings = np.load('w2v2.npy')"
   ]
  },
  {
   "cell_type": "code",
   "execution_count": 238,
   "metadata": {
    "collapsed": false
   },
   "outputs": [
    {
     "name": "stdout",
     "output_type": "stream",
     "text": [
      "hit 0.36438415729\n",
      "listening 0.388706709278\n",
      "hits 0.656884065671\n",
      "pop 0.662088928163\n",
      "while 0.673095536921\n",
      "toxicity 0.680544060279\n",
      "throws 0.691498137279\n",
      "spears 0.698153305386\n",
      "caithness 0.701846258423\n",
      "far 0.703778519837\n",
      "test 0.704621592401\n",
      "spann 0.705672390422\n",
      "bootstrap 0.708041127956\n",
      "stokes 0.709543389243\n",
      "aviator 0.709769373094\n",
      "khz 0.71034920985\n",
      "off 0.710370072545\n",
      "felony 0.710579118491\n",
      "akon 0.711109045001\n",
      "singer 0.711273730425\n"
     ]
    }
   ],
   "source": [
    "analogy_k_nearest('listening', 'listened', 'hit', w2v_embeddings, 20, 'cosine')"
   ]
  },
  {
   "cell_type": "markdown",
   "metadata": {},
   "source": [
    "# GLOVE\n",
    "\n",
    "Используем окно такого же размера, что и в word2vec"
   ]
  },
  {
   "cell_type": "code",
   "execution_count": 15,
   "metadata": {
    "collapsed": true
   },
   "outputs": [],
   "source": [
    "cont_width = 4"
   ]
  },
  {
   "cell_type": "code",
   "execution_count": 19,
   "metadata": {
    "collapsed": true
   },
   "outputs": [],
   "source": [
    "DENOM = 0\n",
    "batch_size = 100"
   ]
  },
  {
   "cell_type": "code",
   "execution_count": 22,
   "metadata": {
    "collapsed": false
   },
   "outputs": [],
   "source": [
    "X = sparse.lil_matrix((VOC_SIZE, VOC_SIZE), dtype=np.float64)\n",
    "for i in range(len(data)):\n",
    "    for j in range(max(0, i - cont_width), i):\n",
    "        X[data[i], data[j]] += 1.0 / (i - j)\n",
    "        DENOM = max(X[data[i], data[j]], DENOM)\n",
    "    for j in range(min((i + 1), len(data)), min((i + 1 + cont_width), len(data))):\n",
    "        X[data[i], data[j]] += 1.0 / (j - i)\n",
    "        DENOM = max(X[data[i], data[j]], DENOM)\n",
    "X = sparse.coo_matrix(X)"
   ]
  },
  {
   "cell_type": "code",
   "execution_count": 83,
   "metadata": {
    "collapsed": false
   },
   "outputs": [],
   "source": [
    "GAMMA = 0.05"
   ]
  },
  {
   "cell_type": "code",
   "execution_count": 84,
   "metadata": {
    "collapsed": false
   },
   "outputs": [],
   "source": [
    "glove_graph = tf.Graph()\n",
    "with glove_graph.as_default():\n",
    "\n",
    "    focal_input = tf.placeholder(tf.int32, shape=[batch_size],\n",
    "                                        name=\"focal_words\")\n",
    "    context_input = tf.placeholder(tf.int32, shape=[batch_size],\n",
    "                                          name=\"context_words\")\n",
    "    cooccurrence_count = tf.placeholder(tf.float32, shape=[batch_size],\n",
    "                                               name=\"cooccurrence_count\")\n",
    "\n",
    "    focal_embeddings = tf.Variable(\n",
    "        tf.random_uniform([VOC_SIZE, embedding_size], 1.0, -1.0) / float(embedding_size + 1))\n",
    "    context_embeddings = tf.Variable(\n",
    "        tf.random_uniform([VOC_SIZE, embedding_size], 1.0, -1.0) / float(embedding_size + 1))\n",
    "\n",
    "    focal_biases = tf.Variable(tf.random_uniform([VOC_SIZE], 1.0, -1.0) / float(embedding_size + 1))\n",
    "    context_biases = tf.Variable(tf.random_uniform([VOC_SIZE], 1.0, -1.0) / float(embedding_size + 1))\n",
    "\n",
    "    focal_embedding = tf.nn.embedding_lookup([focal_embeddings], focal_input)\n",
    "    context_embedding = tf.nn.embedding_lookup([context_embeddings], context_input)\n",
    "    focal_bias = tf.nn.embedding_lookup([focal_biases], focal_input)\n",
    "    context_bias = tf.nn.embedding_lookup([context_biases], context_input)\n",
    "\n",
    "    f = tf.minimum(1.0, tf.pow(tf.div(cooccurrence_count, DENOM),0.75))\n",
    "\n",
    "    embedding_product = tf.reduce_sum(tf.multiply(focal_embedding, context_embedding), 1)\n",
    "\n",
    "    log_cooccurrences = tf.log(tf.to_float(cooccurrence_count))\n",
    "\n",
    "    distance_expr = tf.square(tf.add_n([\n",
    "        embedding_product,\n",
    "        focal_bias,\n",
    "        context_bias,\n",
    "        tf.negative(log_cooccurrences)]))\n",
    "\n",
    "    single_losses = tf.multiply(f, distance_expr)\n",
    "    total_loss = tf.reduce_sum(single_losses)\n",
    "    optimizer = tf.train.AdagradOptimizer(GAMMA).minimize(total_loss)\n",
    "\n",
    "    combined_embeddings = tf.add(focal_embeddings, context_embeddings,\n",
    "                                        name=\"combined_embeddings\")"
   ]
  },
  {
   "cell_type": "code",
   "execution_count": 85,
   "metadata": {
    "collapsed": true
   },
   "outputs": [],
   "source": [
    "num_epochs = 10"
   ]
  },
  {
   "cell_type": "code",
   "execution_count": 86,
   "metadata": {
    "collapsed": false
   },
   "outputs": [
    {
     "name": "stdout",
     "output_type": "stream",
     "text": [
      "WARNING:tensorflow:From <ipython-input-86-75b45f6a3833>:2: initialize_all_variables (from tensorflow.python.ops.variables) is deprecated and will be removed after 2017-03-02.\n",
      "Instructions for updating:\n",
      "Use `tf.global_variables_initializer` instead.\n"
     ]
    }
   ],
   "source": [
    "with tf.Session(graph=glove_graph) as session:\n",
    "    tf.initialize_all_variables().run()\n",
    "    for epoch in range(num_epochs):\n",
    "        step = 0\n",
    "        i_s = []\n",
    "        j_s = []\n",
    "        counts = []\n",
    "        for (i, j, X_ij) in zip(X.row, X.col, X.data):\n",
    "            if len(j_s) == batch_size:\n",
    "                feed_dict = {focal_input: i_s, context_input: j_s, cooccurrence_count: counts}\n",
    "                session.run([optimizer], feed_dict=feed_dict)\n",
    "                del i_s[:], j_s[:], counts[:]\n",
    "            else:\n",
    "                i_s.append(i)\n",
    "                j_s.append(j)\n",
    "                counts.append(X_ij)\n",
    "            step += 1\n",
    "    embeddings = combined_embeddings.eval()"
   ]
  },
  {
   "cell_type": "code",
   "execution_count": 159,
   "metadata": {
    "collapsed": false
   },
   "outputs": [],
   "source": [
    "embeddings = np.load('glove.npy')"
   ]
  },
  {
   "cell_type": "markdown",
   "metadata": {},
   "source": [
    "# t-SNE"
   ]
  },
  {
   "cell_type": "code",
   "execution_count": null,
   "metadata": {
    "collapsed": false
   },
   "outputs": [],
   "source": [
    "from sklearn.manifold import TSNE\n",
    "tsne = TSNE(n_components=3, init='pca')\n",
    "low_dim_embs = tsne.fit_transform(embeddings[:5000])"
   ]
  },
  {
   "cell_type": "code",
   "execution_count": 193,
   "metadata": {
    "collapsed": false
   },
   "outputs": [
    {
     "data": {
      "image/png": "[encoded data removed]",
      "text/plain": [
       "<matplotlib.figure.Figure at 0x7f33a96ed4e0>"
      ]
     },
     "metadata": {},
     "output_type": "display_data"
    }
   ],
   "source": [
    "from mpl_toolkits.mplot3d import Axes3D\n",
    "import pylab\n",
    "del ax, fig\n",
    "fig = pylab.figure()\n",
    "ax = Axes3D(fig)\n",
    "\n",
    "for i in range(10):\n",
    "    x, y, z = low_dim_embs[i]\n",
    "    ax.scatter(x, y, z,c='b', s=5) \n",
    "    ax.text(x, y, z, inverted_dict[i], size=10, zorder=1,  \n",
    " color='k') \n",
    "pylab.show()"
   ]
  },
  {
   "cell_type": "markdown",
   "metadata": {},
   "source": [
    "# Сравнение моделей"
   ]
  }
 ],
 "metadata": {
  "kernelspec": {
   "display_name": "Python 3",
   "language": "python",
   "name": "python3"
  },
  "language_info": {
   "codemirror_mode": {
    "name": "ipython",
    "version": 3
   },
   "file_extension": ".py",
   "mimetype": "text/x-python",
   "name": "python",
   "nbconvert_exporter": "python",
   "pygments_lexer": "ipython3",
   "version": "3.5.2"
  }
 },
 "nbformat": 4,
 "nbformat_minor": 2
}
