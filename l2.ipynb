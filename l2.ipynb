{
 "cells": [
  {
   "cell_type": "markdown",
   "metadata": {},
   "source": [
    "## Лабораторная работа №2"
   ]
  },
  {
   "cell_type": "code",
   "execution_count": 2,
   "metadata": {
    "collapsed": false
   },
   "outputs": [],
   "source": [
    "%matplotlib inline\n",
    "import numpy as np\n",
    "from matplotlib import cm\n",
    "import matplotlib.pyplot as plt\n",
    "from keras.datasets import mnist\n",
    "from keras.utils import np_utils"
   ]
  },
  {
   "cell_type": "markdown",
   "metadata": {},
   "source": [
    "Будем использовать МНИСТ из датасета Кераса\n",
    "\n",
    "Разбиение и нормализация данных:"
   ]
  },
  {
   "cell_type": "code",
   "execution_count": 34,
   "metadata": {
    "collapsed": false
   },
   "outputs": [
    {
     "name": "stdout",
     "output_type": "stream",
     "text": [
      "60000 train samples\n",
      "10000 test samples\n"
     ]
    }
   ],
   "source": [
    "batch_size = 128\n",
    "nb_classes = 10\n",
    "nb_epoch = 20\n",
    "\n",
    "(train_set, train_labels), (test_set, test_labels) = mnist.load_data()\n",
    "\n",
    "train_set = train_set.reshape(60000, 784)\n",
    "test_set = test_set.reshape(10000, 784)\n",
    "\n",
    "train_set = train_set.astype('float32')\n",
    "test_set = test_set.astype('float32')\n",
    "train_set /= 255\n",
    "test_set /= 255\n",
    "print(train_set.shape[0], 'train samples')\n",
    "print(test_set.shape[0], 'test samples')\n",
    "\n",
    "train_labels = np_utils.to_categorical(train_labels, nb_classes)\n",
    "test_labels = np_utils.to_categorical(test_labels, nb_classes)"
   ]
  },
  {
   "cell_type": "markdown",
   "metadata": {},
   "source": [
    "Добавляем столбец единичек"
   ]
  },
  {
   "cell_type": "code",
   "execution_count": 35,
   "metadata": {
    "collapsed": false
   },
   "outputs": [],
   "source": [
    "train_set = np.append(train_set, np.ones((train_set.shape[0], 1)), axis=1)\n",
    "test_set = np.append(test_set, np.ones((test_set.shape[0], 1)), axis=1)"
   ]
  },
  {
   "cell_type": "markdown",
   "metadata": {},
   "source": [
    "Функция вычисления Софтмакс (используя \"фишку\")"
   ]
  },
  {
   "cell_type": "code",
   "execution_count": 5,
   "metadata": {
    "collapsed": false
   },
   "outputs": [],
   "source": [
    "def softmax(weights, train_set):\n",
    "    probabilities = weights.dot(train_set.T)\n",
    "    probabilities = np.exp(probabilities - probabilities.max(0))\n",
    "    probabilities /= probabilities.sum(0)\n",
    "    return probabilities"
   ]
  },
  {
   "cell_type": "markdown",
   "metadata": {},
   "source": [
    "Вычисление градиента по весам функции Софтмакс"
   ]
  },
  {
   "cell_type": "markdown",
   "metadata": {},
   "source": [
    "У нас размер батча m, метки принимают K значений\n",
    "$$-1/m\\sum_{i=1}^m\\sum_{k=1}^K [y^{(i)}=k] * ln(\\frac{exp(w^{(k)}x^{(i)})}{\\sum_{j=1}^K{exp(w^{(j)}x^{(i)})}}) = -1/m\\sum_{i=1}^m\\sum_{k=1}^K [y^{(i)}=k] * (ln({exp(w^{(k)}x^{(i)})}) - ln({\\sum_{j=1}^K{exp(w^{(j)}x^{(i)})}})) = $$\n",
    "\n",
    "$$= -1/m\\sum_{i=1}^m\\sum_{k=1}^K [y^{(i)}=k] * (w^{(k)}x^{(i)} - ln({\\sum_{j=1}^K{exp(w^{(j)}x^{(i)})}}))$$\n",
    "\n",
    "\n",
    "Берем производную по $w^{(t)}$\n",
    "\n",
    "\n",
    "$$-1/m\\sum_{i=1}^m\\sum_{k=1}^K [y^{(i)}=k] * (x^{(i)} - \\frac{exp(w^{(t)}x^{(i)})x^{(i)}}{\\sum_{j=1}^K{exp(w^{(j)}x^{(i)})}}) = -1/m\\sum_{i=1}^m\\sum_{k=1}^K [y^{(i)}=k] * (1 - \\frac{exp(w^{(t)}x^{(i)})}{\\sum_{j=1}^K{exp(w^{(j)}x^{(i)})}})x^{(i)} = $$\n",
    "$$= 1/m\\sum_{i=1}^m (p([y^{(i)}= t]) - [y^{(i)}=k])x^{(i)}$$\n",
    "\n",
    "Или в матричной форме:"
   ]
  },
  {
   "cell_type": "code",
   "execution_count": 6,
   "metadata": {
    "collapsed": false
   },
   "outputs": [],
   "source": [
    "def softmax_grad(weights, input_set, labels):\n",
    "    probabilities = softmax(weights, input_set)\n",
    "    probabilities -= labels.T\n",
    "    grad = probabilities.dot(input_set) / len(input_set)\n",
    "    return grad"
   ]
  },
  {
   "cell_type": "markdown",
   "metadata": {},
   "source": [
    "Функция, проверяющая качество нашего предсказания на отложенной выборке"
   ]
  },
  {
   "cell_type": "code",
   "execution_count": 7,
   "metadata": {
    "collapsed": true
   },
   "outputs": [],
   "source": [
    "def check_quality(weights, train_set, labels):\n",
    "    probabilities = softmax(weights, train_set)\n",
    "    predicted = np.argmax(probabilities, axis=0) - np.argmax(labels, axis=1)\n",
    "    predicted = predicted != 0\n",
    "    return np.sum(predicted)"
   ]
  },
  {
   "cell_type": "markdown",
   "metadata": {},
   "source": [
    "Простой стохастический спуск (размер батча определен выше)"
   ]
  },
  {
   "cell_type": "code",
   "execution_count": 45,
   "metadata": {
    "collapsed": false
   },
   "outputs": [],
   "source": [
    "def iter_grad_desc(train_set, train_labels, test_set, test_labels, grad, ITERS, LMBD):\n",
    "    path = []\n",
    "    weights = np.zeros((10, train_set.shape[1]))\n",
    "    for i in range(ITERS):\n",
    "        temp_pos = 0\n",
    "        while temp_pos + batch_size < len(train_set):\n",
    "            gradient = grad(weights, train_set[temp_pos : temp_pos + batch_size], train_labels[temp_pos : temp_pos + batch_size])\n",
    "            weights -= LMBD * gradient\n",
    "            temp_pos += batch_size\n",
    "        path.append(check_quality(weights, test_set, test_labels))\n",
    "#       print(i, path[-1])\n",
    "    return weights, path"
   ]
  },
  {
   "cell_type": "code",
   "execution_count": 46,
   "metadata": {
    "collapsed": false
   },
   "outputs": [],
   "source": [
    "w, p = iter_grad_desc(train_set, train_labels, test_set, test_labels, softmax_grad, 100, 0.5)"
   ]
  },
  {
   "cell_type": "code",
   "execution_count": 47,
   "metadata": {
    "collapsed": false
   },
   "outputs": [
    {
     "data": {
      "image/png": "[encoded data removed]",
      "text/plain": [
       "<matplotlib.figure.Figure at 0x7fb295e9f630>"
      ]
     },
     "metadata": {},
     "output_type": "display_data"
    }
   ],
   "source": [
    "plt.grid(True)\n",
    "plt.title('Mistake is ' + str(1 - p[-1] / len(test_set)))\n",
    "plt.axhline(0, color=\"black\")\n",
    "plt.xlabel('step')\n",
    "plt.axvline(0, color=\"black\")\n",
    "plt.ylabel('mistakes (out of ' + str(len(test_labels)) + ')')\n",
    "plt.plot(np.array(range(len(p))), p, 'c', linewidth=3)\n",
    "plt.show()"
   ]
  },
  {
   "cell_type": "markdown",
   "metadata": {},
   "source": [
    "Подберем параметры регуляризации"
   ]
  },
  {
   "cell_type": "code",
   "execution_count": 72,
   "metadata": {
    "collapsed": true
   },
   "outputs": [],
   "source": [
    "def reg_iter_grad_desc(train_set, train_labels, test_set, test_labels, grad, ITERS, learning_rate, LMBD1, LMBD2):\n",
    "    path = []\n",
    "    weights = np.zeros((10, train_set.shape[1]))\n",
    "    for i in range(ITERS):\n",
    "        temp_pos = 0\n",
    "        while temp_pos + batch_size < len(train_set):\n",
    "            gradient = grad(weights, train_set[temp_pos : temp_pos + batch_size], train_labels[temp_pos : temp_pos + batch_size])\n",
    "            weights -= learning_rate * gradient + LMBD1 * np.sign(weights) + 2 * LMBD2 * weights\n",
    "            temp_pos += batch_size\n",
    "        path.append(check_quality(weights, test_set, test_labels))\n",
    "#       print(i, path[-1])\n",
    "    return weights, path"
   ]
  },
  {
   "cell_type": "code",
   "execution_count": 73,
   "metadata": {
    "collapsed": false
   },
   "outputs": [],
   "source": [
    "lms = np.linspace(0, 1, num=10, endpoint=True)\n",
    "\n",
    "X, Y = np.meshgrid(lms, lms)\n",
    "Z = np.zeros((len(lms), len(lms)))\n",
    "for i in range(len(lms)):\n",
    "    for j in range(len(lms)):\n",
    "        w, p = reg_iter_grad_desc(train_set, train_labels, test_set, test_labels, softmax_grad, 10, 1, lms[i], lms[j])\n",
    "        Z[i, j] = p[-1]"
   ]
  },
  {
   "cell_type": "code",
   "execution_count": 74,
   "metadata": {
    "collapsed": false
   },
   "outputs": [
    {
     "data": {
      "image/png": "[encoded data removed]",
      "text/plain": [
       "<matplotlib.figure.Figure at 0x7f1cb286aef0>"
      ]
     },
     "metadata": {},
     "output_type": "display_data"
    }
   ],
   "source": [
    "plt.contourf(X, Y, Z, 1000)\n",
    "plt.show()"
   ]
  },
  {
   "cell_type": "markdown",
   "metadata": {},
   "source": [
    "Как видим, в данной задаче регуляризацию лучше не использовать - наилучшая ошибка (после 10 итераций) при параметрах (0; 0) (при использовании более мелкого разбиения результат тот же)"
   ]
  },
  {
   "cell_type": "markdown",
   "metadata": {},
   "source": [
    "### Булевы функции"
   ]
  },
  {
   "cell_type": "markdown",
   "metadata": {},
   "source": [
    "1) AND характеризуется тем, что он истинен, тогда и только тогда, когда все его аргументы истинны, OR - когда хотя бы один, иными словами, AND возвращает TRUE когда из 2-х операндов 2 единички, OR - хотя бы одна. Тогда введем $w = (1, 1)$, при домножении на который мы и получим число единиц, а в качестве b для AND можно взять 1,5 (т.к. в функции Хевисайда нестрогое неравенство, можно взять и 2), а в случае OR $b = 1+ (-0.5)$. \n",
    "\n",
    "В случае произвольной размерности n в качестве w можно взять $(1)^n$, в качестве b для AND можно взять $n+(-0.5)$ и для OR $1+(-0.5)$\n",
    "\n",
    "С not немного непонятно - это же унарный оператор, т.е. x - просто число, 0 или 1, и нам нужно выразить $x <= 0.5$, тогда в качестве w подойдет $-1$, а в качестве b подойдет $-0.5$\n",
    "\n",
    "Если же имеются ввиду выражения вида $\\neg x \\wedge y$ и т.д., то они представимы в данном виде - заметим, что таблица истинности таких выражений имеет либо ровно одну 1, либо один 0, т.е. на плоскости у нас есть квадрат из 4 точек $(0,0), (0,1), (1,0), (1,1)$ и нам нужно отделить лишь одну от всех остальных - а это просто ($\\neg x \\wedge y$, например, разделяет $w =(-1, 1)$ и $b = -0.5$, в большоей размерности всё аналогично)\n",
    "\n",
    "2) Легко понять, что XOR не может быть представлена в таком виде, т.к. точки $a = (0,0), b = (1,1)$ и $c = (0,1), d = (1,0)$ не могут быть разделены прямой, т.к. если a и b лежат по одну сторону от прямой, то c и d никак не могут оказаться обе и по другую сторону."
   ]
  },
  {
   "cell_type": "markdown",
   "metadata": {},
   "source": [
    "### 2 часть"
   ]
  },
  {
   "cell_type": "markdown",
   "metadata": {},
   "source": [
    "Теперь мы имеем суперпозицию двух функций $\\theta$, в таком виде мы уже можем реализовать и XOR, и любую булеву функцию. Т.к. мы можем представлять любую функцию в виде ДНФ(или КНФ), а затем записать эти формулы, так, что одной скобке соответсвующей формы соответсвует строчка матрицы $W_1$. Тогда в $W_1 x + b_1$ у нас будут записаны значения скобок ДНФ(или КНФ), и нам остается лишь взять их дизъюнкцию/конъюнкцию."
   ]
  },
  {
   "cell_type": "markdown",
   "metadata": {},
   "source": [
    "## Keras"
   ]
  },
  {
   "cell_type": "code",
   "execution_count": 33,
   "metadata": {
    "collapsed": true
   },
   "outputs": [],
   "source": [
    "from keras.models import Sequential\n",
    "from keras.layers.core import Dense, Activation\n",
    "from keras.optimizers import SGD, RMSprop, adadelta"
   ]
  },
  {
   "cell_type": "code",
   "execution_count": 36,
   "metadata": {
    "collapsed": true
   },
   "outputs": [],
   "source": [
    "train_set = train_set[:, :-1]\n",
    "test_set = test_set[:, :-1]"
   ]
  },
  {
   "cell_type": "code",
   "execution_count": 8,
   "metadata": {
    "collapsed": false
   },
   "outputs": [
    {
     "name": "stdout",
     "output_type": "stream",
     "text": [
      "(60000, 785)\n",
      "____________________________________________________________________________________________________\n",
      "Layer (type)                     Output Shape          Param #     Connected to                     \n",
      "====================================================================================================\n",
      "dense_1 (Dense)                  (None, 784)           615440      dense_input_1[0][0]              \n",
      "____________________________________________________________________________________________________\n",
      "activation_1 (Activation)        (None, 784)           0           dense_1[0][0]                    \n",
      "____________________________________________________________________________________________________\n",
      "dense_2 (Dense)                  (None, 10)            7850        activation_1[0][0]               \n",
      "____________________________________________________________________________________________________\n",
      "activation_2 (Activation)        (None, 10)            0           dense_2[0][0]                    \n",
      "====================================================================================================\n",
      "Total params: 623290\n",
      "____________________________________________________________________________________________________\n",
      "Test score: 0.202854981144\n",
      "Test accuracy: 0.9427\n"
     ]
    }
   ],
   "source": [
    "model = Sequential()\n",
    "model.add(Dense(784, input_shape=(784,)))\n",
    "model.add(Activation('relu'))\n",
    "model.add(Dense(10))\n",
    "model.add(Activation('softmax'))\n",
    "\n",
    "model.summary()\n",
    "\n",
    "model.compile(loss='categorical_crossentropy',\n",
    "              optimizer=SGD(),\n",
    "              metrics=['accuracy'])\n",
    "\n",
    "history = model.fit(train_set, train_labels,\n",
    "                    batch_size=batch_size, nb_epoch=nb_epoch,\n",
    "                    verbose=0, validation_data=(test_set, test_labels))\n",
    "score = model.evaluate(test_set, test_labels, verbose=0)\n",
    "print('Test score:', score[0])\n",
    "print('Test accuracy:', score[1])"
   ]
  },
  {
   "cell_type": "markdown",
   "metadata": {},
   "source": [
    "Точность стала лучше"
   ]
  },
  {
   "cell_type": "markdown",
   "metadata": {},
   "source": [
    "### Зависимость качества от размера выхода первого слоя\n",
    "\n",
    "Проварьируем размерность выхода первого слоя по степеням двойки"
   ]
  },
  {
   "cell_type": "code",
   "execution_count": 17,
   "metadata": {
    "collapsed": false
   },
   "outputs": [],
   "source": [
    "accuracies = []\n",
    "sizes = (1, 2, 4, 8, 16, 32, 64, 128, 256, 512, 1024, 2048)\n",
    "for i in sizes:\n",
    "    model = Sequential()\n",
    "    model.add(Dense(i, input_shape=(784,)))\n",
    "    model.add(Activation('relu'))\n",
    "    model.add(Dense(10))\n",
    "    model.add(Activation('softmax'))\n",
    "\n",
    "    # model.summary()\n",
    "\n",
    "    model.compile(loss='categorical_crossentropy',\n",
    "                  optimizer=SGD(),\n",
    "                  metrics=['accuracy'])\n",
    "\n",
    "    history = model.fit(train_set, train_labels,\n",
    "                        batch_size=batch_size, nb_epoch=nb_epoch,\n",
    "                        verbose=0, validation_data=(test_set, test_labels))\n",
    "    score = model.evaluate(test_set, test_labels, verbose=0)\n",
    "    accuracies.append(score[1])"
   ]
  },
  {
   "cell_type": "code",
   "execution_count": 22,
   "metadata": {
    "collapsed": false
   },
   "outputs": [
    {
     "data": {
      "image/png": "[encoded data removed]",
      "text/plain": [
       "<matplotlib.figure.Figure at 0x7fb298d27438>"
      ]
     },
     "metadata": {},
     "output_type": "display_data"
    }
   ],
   "source": [
    "plt.grid(True)\n",
    "plt.axhline(0, color=\"black\")\n",
    "plt.xlabel('layer output size')\n",
    "plt.axvline(0, color=\"black\")\n",
    "plt.ylabel('accuracy')\n",
    "plt.plot(sizes, accuracies, 'c', linewidth=3)\n",
    "plt.show()"
   ]
  },
  {
   "cell_type": "markdown",
   "metadata": {},
   "source": [
    "Точность монотонно возрастает от выходного размера после линейного преобразования, но с увеличением размерности выходного вектора увеличивается сложность вычислений"
   ]
  },
  {
   "cell_type": "markdown",
   "metadata": {},
   "source": [
    "### Собственная архитектура\n",
    "\n",
    "Я решил не сжимать картинки, а подавать фичи как есть, плюс добавить еще один слой и дропаут, серьезного прироста не вышло"
   ]
  },
  {
   "cell_type": "code",
   "execution_count": 37,
   "metadata": {
    "collapsed": false
   },
   "outputs": [
    {
     "name": "stdout",
     "output_type": "stream",
     "text": [
      "____________________________________________________________________________________________________\n",
      "Layer (type)                     Output Shape          Param #     Connected to                     \n",
      "====================================================================================================\n",
      "dense_88 (Dense)                 (None, 784)           615440      dense_input_41[0][0]             \n",
      "____________________________________________________________________________________________________\n",
      "activation_88 (Activation)       (None, 784)           0           dense_88[0][0]                   \n",
      "____________________________________________________________________________________________________\n",
      "dropout_15 (Dropout)             (None, 784)           0           activation_88[0][0]              \n",
      "____________________________________________________________________________________________________\n",
      "dense_89 (Dense)                 (None, 784)           615440      dropout_15[0][0]                 \n",
      "____________________________________________________________________________________________________\n",
      "activation_89 (Activation)       (None, 784)           0           dense_89[0][0]                   \n",
      "____________________________________________________________________________________________________\n",
      "dropout_16 (Dropout)             (None, 784)           0           activation_89[0][0]              \n",
      "____________________________________________________________________________________________________\n",
      "dense_90 (Dense)                 (None, 10)            7850        dropout_16[0][0]                 \n",
      "____________________________________________________________________________________________________\n",
      "activation_90 (Activation)       (None, 10)            0           dense_90[0][0]                   \n",
      "====================================================================================================\n",
      "Total params: 1238730\n",
      "____________________________________________________________________________________________________\n",
      "Test score: 0.0565183095751\n",
      "Test accuracy: 0.9846\n"
     ]
    }
   ],
   "source": [
    "model = Sequential()\n",
    "model.add(Dense(784, input_shape=(784,)))\n",
    "model.add(Activation('relu'))\n",
    "model.add(Dropout(0.25))\n",
    "model.add(Dense(784))\n",
    "model.add(Activation('relu'))\n",
    "model.add(Dropout(0.4))\n",
    "model.add(Dense(10))\n",
    "model.add(Activation('softmax'))\n",
    "\n",
    "model.summary()\n",
    "\n",
    "model.compile(loss='categorical_crossentropy',\n",
    "              optimizer='adadelta',\n",
    "              metrics=['accuracy'])\n",
    "\n",
    "history = model.fit(train_set, train_labels,\n",
    "                    batch_size=batch_size, nb_epoch=nb_epoch,\n",
    "                    verbose=0, validation_data=(test_set, test_labels))\n",
    "score = model.evaluate(test_set, test_labels, verbose=0)\n",
    "print('Test score:', score[0])\n",
    "print('Test accuracy:', score[1])"
   ]
  },
  {
   "cell_type": "markdown",
   "metadata": {},
   "source": [
    "Исследуем качество на зависимость от числа слоев(количество эпох неизменное - 20)"
   ]
  },
  {
   "cell_type": "code",
   "execution_count": 39,
   "metadata": {
    "collapsed": true
   },
   "outputs": [],
   "source": [
    "accuracies = []\n",
    "for add_layers_number in range(7):\n",
    "    model = Sequential()\n",
    "    model.add(Dense(512, input_shape=(784,)))\n",
    "    model.add(Activation('relu'))\n",
    "    for i in range(add_layers_number):\n",
    "        model.add(Dropout(0.2))\n",
    "        model.add(Dense(512))\n",
    "        model.add(Activation('relu'))\n",
    "    model.add(Dense(10))\n",
    "    model.add(Activation('softmax'))\n",
    "\n",
    "    # model.summary()\n",
    "\n",
    "    model.compile(loss='categorical_crossentropy',\n",
    "                  optimizer=SGD(),\n",
    "                  metrics=['accuracy'])\n",
    "\n",
    "    history = model.fit(train_set, train_labels,\n",
    "                        batch_size=batch_size, nb_epoch=nb_epoch,\n",
    "                        verbose=0, validation_data=(test_set, test_labels))\n",
    "    score = model.evaluate(test_set, test_labels, verbose=0)\n",
    "    accuracies.append(score[1])"
   ]
  },
  {
   "cell_type": "code",
   "execution_count": 43,
   "metadata": {
    "collapsed": false
   },
   "outputs": [
    {
     "data": {
      "image/png": "[encoded data removed]",
      "text/plain": [
       "<matplotlib.figure.Figure at 0x7fb295fdae10>"
      ]
     },
     "metadata": {},
     "output_type": "display_data"
    }
   ],
   "source": [
    "plt.grid(True)\n",
    "plt.xlabel('additional layers num')\n",
    "plt.ylabel('accuracy')\n",
    "plt.plot(np.array(range(7)), accuracies, 'c', linewidth=3)\n",
    "plt.show()"
   ]
  },
  {
   "cell_type": "markdown",
   "metadata": {},
   "source": [
    "В нашем примере увеличение числа слоев ведет к улучшению качества вплоть до 5 дополнительных слоев, при увеличение числа дополнительных слоев до 6 качество немного ухудшилось."
   ]
  }
 ],
 "metadata": {
  "kernelspec": {
   "display_name": "Python 3",
   "language": "python",
   "name": "python3"
  },
  "language_info": {
   "codemirror_mode": {
    "name": "ipython",
    "version": 3
   },
   "file_extension": ".py",
   "mimetype": "text/x-python",
   "name": "python",
   "nbconvert_exporter": "python",
   "pygments_lexer": "ipython3",
   "version": "3.5.2"
  }
 },
 "nbformat": 4,
 "nbformat_minor": 2
}
